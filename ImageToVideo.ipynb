# Install dependencies
!pip install opencv-python numpy

import cv2
import numpy as np
import os
from google.colab import files
from IPython.display import HTML
from base64 import b64encode

def images_to_video(input_folder, output_video, fps=24):
    images = [img for img in os.listdir(input_folder) if img.endswith(".png") or img.endswith(".jpg")]
    images.sort()

    frame = cv2.imread(os.path.join(input_folder, images[0]))
    height, width, layers = frame.shape

    fourcc = cv2.VideoWriter_fourcc(*'mp4v')
    video = cv2.VideoWriter(output_video, fourcc, fps, (width, height))

    for image in images:
        img_path = os.path.join(input_folder, image)
        frame = cv2.imread(img_path)
        video.write(frame)

    video.release()
    return output_video

!mkdir -p input_images
uploaded = files.upload()
for filename in uploaded.keys():
  !mv "{filename}" input_images/

output_file = "output_video.mp4"
images_to_video("input_images", output_file)
files.download(output_file)
